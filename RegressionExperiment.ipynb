{
 "cells": [
  {
   "cell_type": "code",
   "execution_count": 2,
   "metadata": {},
   "outputs": [
    {
     "data": {
      "image/png": "[encoded data removed]",
      "text/plain": [
       "<matplotlib.figure.Figure at 0x168d4858470>"
      ]
     },
     "metadata": {},
     "output_type": "display_data"
    }
   ],
   "source": [
    "from sklearn.datasets import load_svmlight_file\n",
    "from sklearn.model_selection import train_test_split\n",
    "import matplotlib.pyplot as plt\n",
    "import numpy as np\n",
    "\n",
    "\n",
    "def loss(x, y, w):\n",
    "    return np.dot((y - np.dot(x, w)).T, (y - np.dot(x, w))) / 2\n",
    "\n",
    "\n",
    "X,y = load_svmlight_file(\"housing_scale\")\n",
    "X = X.toarray()\n",
    "X = np.c_[np.ones((X.shape[0],1)),X]\n",
    "W = np.zeros((X.shape[1]))\n",
    "X_train, X_test, y_train, y_test = train_test_split(X, y, test_size =0.33)\n",
    "\n",
    "y_t = y_test\n",
    "time = 500\n",
    "loss_train = np.zeros((time),np.float)\n",
    "loss_validation = np.zeros((time),np.float)\n",
    "learning_rate = 0.0005\n",
    "\n",
    "for i in range(0, time):\n",
    "    G = np.dot(np.dot(X_train.T, X_train), W) - np.dot(X_train.T, y_train)\n",
    "    D = -G\n",
    "\n",
    "    W = W + learning_rate * D\n",
    "    \n",
    "    loss_train[i] = loss(X_train, y_train, W)\n",
    "    loss_validation[i] = loss(X_test, y_test, W)\n",
    "\n",
    "loss_train = loss_train / X_train.shape[0]\n",
    "loss_validation = loss_validation / X_test.shape[0]\n",
    "plt.plot(loss_train, label = 'train')\n",
    "plt.plot(loss_validation, label = 'validation')\n",
    "plt.legend()\n",
    "plt.show()\n"
   ]
  }
 ],
 "metadata": {
  "kernelspec": {
   "display_name": "Python 3",
   "language": "python",
   "name": "python3"
  },
  "language_info": {
   "codemirror_mode": {
    "name": "ipython",
    "version": 3
   },
   "file_extension": ".py",
   "mimetype": "text/x-python",
   "name": "python",
   "nbconvert_exporter": "python",
   "pygments_lexer": "ipython3",
   "version": "3.6.3"
  }
 },
 "nbformat": 4,
 "nbformat_minor": 2
}
